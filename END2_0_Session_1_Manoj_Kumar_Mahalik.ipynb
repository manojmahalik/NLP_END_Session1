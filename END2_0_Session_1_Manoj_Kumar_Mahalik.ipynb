{
  "nbformat": 4,
  "nbformat_minor": 0,
  "metadata": {
    "colab": {
      "name": "END2.0 Session 1 Manoj Kumar Mahalik.ipynb",
      "provenance": [],
      "include_colab_link": true
    },
    "kernelspec": {
      "name": "python3",
      "display_name": "Python 3"
    },
    "language_info": {
      "name": "python"
    }
  },
  "cells": [
    {
      "cell_type": "markdown",
      "metadata": {
        "id": "view-in-github",
        "colab_type": "text"
      },
      "source": [
        "<a href=\"https://colab.research.google.com/github/manojmahalik/NLP_END_Session1/blob/main/END2_0_Session_1_Manoj_Kumar_Mahalik.ipynb\" target=\"_parent\"><img src=\"https://colab.research.google.com/assets/colab-badge.svg\" alt=\"Open In Colab\"/></a>"
      ]
    },
    {
      "cell_type": "code",
      "metadata": {
        "colab": {
          "base_uri": "https://localhost:8080/"
        },
        "id": "GC_6PeobwwkH",
        "outputId": "287218e4-7873-4677-ad5c-ba0a7df61693"
      },
      "source": [
        "import torch\n",
        "from torch.autograd import Variable\n",
        "import torch.nn as nn\n",
        "import torch.nn.functional as F\n",
        "import torch.optim as optim\n",
        "import numpy as np\n",
        "import matplotlib.pyplot as plt\n",
        "%matplotlib inline\n",
        "torch.manual_seed(2)"
      ],
      "execution_count": 95,
      "outputs": [
        {
          "output_type": "execute_result",
          "data": {
            "text/plain": [
              "<torch._C.Generator at 0x7fa4157db8d0>"
            ]
          },
          "metadata": {
            "tags": []
          },
          "execution_count": 95
        }
      ]
    },
    {
      "cell_type": "code",
      "metadata": {
        "id": "bL64bMTkw2GP"
      },
      "source": [
        "X = torch.Tensor([[0,0], [0,1], [1,0], [1,1]])\n",
        "Y = torch.Tensor([0, 1, 1, 0]).view(-1,1)"
      ],
      "execution_count": 96,
      "outputs": []
    },
    {
      "cell_type": "code",
      "metadata": {
        "id": "aC82kEAIw3Wf"
      },
      "source": [
        "class XOR(nn.Module):\n",
        "    def __init__(self, input_dim = 2, output_dim=1):\n",
        "        super(XOR, self).__init__()\n",
        "        self.lin1 = nn.Linear(input_dim, 11)\n",
        "        self.lin2 = nn.Linear(11, output_dim,bias=False)\n",
        "    \n",
        "    def forward(self, x):\n",
        "        x = self.lin1(x)\n",
        "        x = F.tanh(x)\n",
        "        x = self.lin2(x)\n",
        "        return x"
      ],
      "execution_count": 97,
      "outputs": []
    },
    {
      "cell_type": "code",
      "metadata": {
        "colab": {
          "base_uri": "https://localhost:8080/"
        },
        "id": "8gQIQExYw65K",
        "outputId": "2e2b39c0-3fa4-4b59-9614-9248e1149922"
      },
      "source": [
        "model = XOR()\n",
        "print(model)\n",
        "from torchsummary import summary\n",
        "summary(model, (2,2))"
      ],
      "execution_count": 98,
      "outputs": [
        {
          "output_type": "stream",
          "text": [
            "XOR(\n",
            "  (lin1): Linear(in_features=2, out_features=11, bias=True)\n",
            "  (lin2): Linear(in_features=11, out_features=1, bias=False)\n",
            ")\n",
            "----------------------------------------------------------------\n",
            "        Layer (type)               Output Shape         Param #\n",
            "================================================================\n",
            "            Linear-1                [-1, 2, 11]              33\n",
            "            Linear-2                 [-1, 2, 1]              11\n",
            "================================================================\n",
            "Total params: 44\n",
            "Trainable params: 44\n",
            "Non-trainable params: 0\n",
            "----------------------------------------------------------------\n",
            "Input size (MB): 0.00\n",
            "Forward/backward pass size (MB): 0.00\n",
            "Params size (MB): 0.00\n",
            "Estimated Total Size (MB): 0.00\n",
            "----------------------------------------------------------------\n"
          ],
          "name": "stdout"
        },
        {
          "output_type": "stream",
          "text": [
            "/usr/local/lib/python3.7/dist-packages/torch/nn/functional.py:1698: UserWarning: nn.functional.tanh is deprecated. Use torch.tanh instead.\n",
            "  warnings.warn(\"nn.functional.tanh is deprecated. Use torch.tanh instead.\")\n"
          ],
          "name": "stderr"
        }
      ]
    },
    {
      "cell_type": "code",
      "metadata": {
        "id": "yeotEq19x6XF"
      },
      "source": [
        "def weights_init(model):\n",
        "    for m in model.modules():\n",
        "        if isinstance(m, nn.Linear):\n",
        "            # initialize the weight tensor, here we use a normal distribution\n",
        "            m.weight.data.normal_(0, 1)\n",
        "\n",
        "weights_init(model)"
      ],
      "execution_count": 99,
      "outputs": []
    },
    {
      "cell_type": "code",
      "metadata": {
        "id": "WrD_sNzLx78e"
      },
      "source": [
        "loss_func = nn.L1Loss()"
      ],
      "execution_count": 100,
      "outputs": []
    },
    {
      "cell_type": "code",
      "metadata": {
        "id": "-zvbrMd2x_lA"
      },
      "source": [
        "optimizer = optim.SGD(model.parameters(), lr=0.02, momentum=0.9)\n"
      ],
      "execution_count": 101,
      "outputs": []
    },
    {
      "cell_type": "code",
      "metadata": {
        "colab": {
          "base_uri": "https://localhost:8080/"
        },
        "id": "q7tWa3D7yA5X",
        "outputId": "079b6028-fc97-4ab2-9c7f-32c74affd5e5"
      },
      "source": [
        "epochs = 2001\n",
        "steps = X.size(0)\n",
        "for i in range(epochs):\n",
        "    for j in range(steps):\n",
        "        data_point = np.random.randint(X.size(0))\n",
        "        x_var = Variable(X[data_point], requires_grad=False)\n",
        "        y_var = Variable(Y[data_point], requires_grad=False)\n",
        "        \n",
        "        optimizer.zero_grad()\n",
        "        y_hat = model(x_var)\n",
        "        loss = loss_func.forward(y_hat, y_var)\n",
        "        loss.backward()\n",
        "        optimizer.step()\n",
        "        \n",
        "    if i % 50 == 0:\n",
        "        print( \"Epoch: {0}, Loss: {1}, \".format(i, loss.data.numpy()))"
      ],
      "execution_count": 102,
      "outputs": [
        {
          "output_type": "stream",
          "text": [
            "Epoch: 0, Loss: 0.6048216819763184, \n",
            "Epoch: 50, Loss: 0.8360257148742676, \n"
          ],
          "name": "stdout"
        },
        {
          "output_type": "stream",
          "text": [
            "/usr/local/lib/python3.7/dist-packages/torch/nn/functional.py:1698: UserWarning: nn.functional.tanh is deprecated. Use torch.tanh instead.\n",
            "  warnings.warn(\"nn.functional.tanh is deprecated. Use torch.tanh instead.\")\n"
          ],
          "name": "stderr"
        },
        {
          "output_type": "stream",
          "text": [
            "Epoch: 100, Loss: 0.8586516380310059, \n",
            "Epoch: 150, Loss: 0.8260124921798706, \n",
            "Epoch: 200, Loss: 0.11538881063461304, \n",
            "Epoch: 250, Loss: 0.11919796466827393, \n",
            "Epoch: 300, Loss: 0.09543633460998535, \n",
            "Epoch: 350, Loss: 0.019795268774032593, \n",
            "Epoch: 400, Loss: 0.28568601608276367, \n",
            "Epoch: 450, Loss: 0.08825379610061646, \n",
            "Epoch: 500, Loss: 0.10542821884155273, \n",
            "Epoch: 550, Loss: 0.136842280626297, \n",
            "Epoch: 600, Loss: 0.16317737102508545, \n",
            "Epoch: 650, Loss: 0.3606593608856201, \n",
            "Epoch: 700, Loss: 0.10346901416778564, \n",
            "Epoch: 750, Loss: 0.05938059091567993, \n",
            "Epoch: 800, Loss: 0.04302471876144409, \n",
            "Epoch: 850, Loss: 0.043354570865631104, \n",
            "Epoch: 900, Loss: 0.039091795682907104, \n",
            "Epoch: 950, Loss: 0.18428611755371094, \n",
            "Epoch: 1000, Loss: 0.09849321842193604, \n",
            "Epoch: 1050, Loss: 0.042128562927246094, \n",
            "Epoch: 1100, Loss: 0.14661896228790283, \n",
            "Epoch: 1150, Loss: 0.4197077751159668, \n",
            "Epoch: 1200, Loss: 0.1300722360610962, \n",
            "Epoch: 1250, Loss: 0.0021646469831466675, \n",
            "Epoch: 1300, Loss: 0.06020092964172363, \n",
            "Epoch: 1350, Loss: 0.22714900970458984, \n",
            "Epoch: 1400, Loss: 0.04232823848724365, \n",
            "Epoch: 1450, Loss: 0.2981659173965454, \n",
            "Epoch: 1500, Loss: 0.08884984254837036, \n",
            "Epoch: 1550, Loss: 0.08596399426460266, \n",
            "Epoch: 1600, Loss: 0.31228119134902954, \n",
            "Epoch: 1650, Loss: 0.160638689994812, \n",
            "Epoch: 1700, Loss: 0.06903880834579468, \n",
            "Epoch: 1750, Loss: 0.17332839965820312, \n",
            "Epoch: 1800, Loss: 0.19337135553359985, \n",
            "Epoch: 1850, Loss: 0.10527229309082031, \n",
            "Epoch: 1900, Loss: 0.01102137565612793, \n",
            "Epoch: 1950, Loss: 0.032464027404785156, \n",
            "Epoch: 2000, Loss: 0.288254052400589, \n"
          ],
          "name": "stdout"
        }
      ]
    },
    {
      "cell_type": "code",
      "metadata": {
        "id": "QV0dIdveyCRi"
      },
      "source": [
        ""
      ],
      "execution_count": 102,
      "outputs": []
    }
  ]
}